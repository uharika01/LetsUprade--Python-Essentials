{
 "cells": [
  {
   "cell_type": "markdown",
   "metadata": {},
   "source": [
    "1. Find the occurrence of \"we\" in the string- \"what w ethink we become; we are python programmer\""
   ]
  },
  {
   "cell_type": "code",
   "execution_count": 21,
   "metadata": {},
   "outputs": [
    {
     "name": "stdout",
     "output_type": "stream",
     "text": [
      "[5, 14, 25]\n"
     ]
    }
   ],
   "source": [
    "import re\n",
    "str1=\"what we think we become; we are python programmer\"\n",
    "regex1=\"we\"\n",
    "print([regex1.start() for regex1 in re.finditer(regex1, str1)])"
   ]
  },
  {
   "cell_type": "markdown",
   "metadata": {},
   "source": [
    "2. Given a string, explain islower() and isupper()\n",
    "\n",
    "islower() method returns true if all cased characters in the string are lowercase \n",
    "and false if any character in the string is of upper case.\n",
    "\n",
    "\n",
    "isupper() method returns true if all cased characters in the string are uppercase \n",
    "and false if any character in the string is of lower case."
   ]
  },
  {
   "cell_type": "code",
   "execution_count": 36,
   "metadata": {},
   "outputs": [
    {
     "name": "stdout",
     "output_type": "stream",
     "text": [
      "Enter the string: abc123\n",
      "True\n",
      "False\n"
     ]
    }
   ],
   "source": [
    "a=input(\"Enter the string: \")\n",
    "b=a.islower()\n",
    "c=a.isupper()\n",
    "print(b)\n",
    "print(c)"
   ]
  },
  {
   "cell_type": "code",
   "execution_count": null,
   "metadata": {},
   "outputs": [],
   "source": []
  }
 ],
 "metadata": {
  "kernelspec": {
   "display_name": "Python 3",
   "language": "python",
   "name": "python3"
  },
  "language_info": {
   "codemirror_mode": {
    "name": "ipython",
    "version": 3
   },
   "file_extension": ".py",
   "mimetype": "text/x-python",
   "name": "python",
   "nbconvert_exporter": "python",
   "pygments_lexer": "ipython3",
   "version": "3.7.6"
  }
 },
 "nbformat": 4,
 "nbformat_minor": 4
}
