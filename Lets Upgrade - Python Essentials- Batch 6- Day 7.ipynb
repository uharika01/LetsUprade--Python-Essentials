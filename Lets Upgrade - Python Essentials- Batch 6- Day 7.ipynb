{
 "cells": [
  {
   "cell_type": "markdown",
   "metadata": {},
   "source": [
    "1. Use the dictionary, port1 = {21: \"FTP\", 22:\"SSH\", 23: \"telnet\", 80: \"http\"}, and make a new dictionary in which keys become values and values become keys, as shown: Port2 = {“FTP\":21, \"SSH\":22, “telnet\":23,\"http\": 80}"
   ]
  },
  {
   "cell_type": "code",
   "execution_count": 2,
   "metadata": {},
   "outputs": [
    {
     "name": "stdout",
     "output_type": "stream",
     "text": [
      "{'FTP': 21, 'SSH': 22, 'telnet': 23, 'http': 80}\n"
     ]
    }
   ],
   "source": [
    "port1 = {21: \"FTP\", 22:\"SSH\", 23: \"telnet\", 80: \"http\"} \n",
    "  \n",
    "#list comprehension\n",
    "port2={v:k for k,v in port1.items()}\n",
    "print(port2)"
   ]
  },
  {
   "cell_type": "markdown",
   "metadata": {},
   "source": [
    "2.\tTake a list of tuple as shown below.\n",
    "[(1,2), (3,4), (5,6),(4,5)]\n",
    "Make a new list which contains sum of number of tuples. \n",
    "For example \n",
    "Input \n",
    "[(1,2), (3,4), (5,6)]\n",
    "Out put \n",
    "[3, 7, 11]"
   ]
  },
  {
   "cell_type": "code",
   "execution_count": 3,
   "metadata": {},
   "outputs": [
    {
     "data": {
      "text/plain": [
       "[3, 7, 11, 9]"
      ]
     },
     "execution_count": 3,
     "metadata": {},
     "output_type": "execute_result"
    }
   ],
   "source": [
    "list1=[(1,2), (3,4), (5,6),(4,5)]\n",
    "list2=[]\n",
    "#list comprehension\n",
    "[list2.append(i[0]+i[1])  for i in list1]\n",
    "list2"
   ]
  },
  {
   "cell_type": "markdown",
   "metadata": {},
   "source": [
    "3. Take a list as shown below \n",
    "[(1,2,3), [1,2], ['a','hit','less']]\n",
    "The List contains tuple and lists. Make the elements of inner lists and tuples to outer list"
   ]
  },
  {
   "cell_type": "code",
   "execution_count": 5,
   "metadata": {},
   "outputs": [
    {
     "name": "stdout",
     "output_type": "stream",
     "text": [
      "[1, 2, 3, 1, 2, 'a', 'hit', 'less']\n"
     ]
    }
   ],
   "source": [
    "list1=[(1,2,3), [1,2], ['a','hit','less']]\n",
    "list2=[]\n",
    "list2 = [i for sub in list1 for i in sub]\n",
    "print(list2)"
   ]
  }
 ],
 "metadata": {
  "kernelspec": {
   "display_name": "Python 3",
   "language": "python",
   "name": "python3"
  },
  "language_info": {
   "codemirror_mode": {
    "name": "ipython",
    "version": 3
   },
   "file_extension": ".py",
   "mimetype": "text/x-python",
   "name": "python",
   "nbconvert_exporter": "python",
   "pygments_lexer": "ipython3",
   "version": "3.7.6"
  }
 },
 "nbformat": 4,
 "nbformat_minor": 4
}
